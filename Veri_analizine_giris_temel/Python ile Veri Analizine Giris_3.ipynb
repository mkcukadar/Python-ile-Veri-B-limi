{
 "cells": [
  {
   "cell_type": "markdown",
   "metadata": {},
   "source": [
    "# Python ile Veri Analizine Giris:\n",
    "Mert Kaan Cukadar: mertkaacukadar@ieee.com\n",
    "\n",
    "## Koşullar ve Döngüler:\n",
    "\n",
    "### Koşullar\n",
    "Python ve diğer dillerde işlemler arasında bir bağ kurmak istiyorsanız Koşullu ifadeleri kullanmak durumundasınız. Şu şekilde ifade edebiliriz; Şamil konuşursa mikrofonu açıktır. bir konrol loop ifadesi görüyoruz bu yazıda \"if şamil speaks his microphone is open\" bizle bu şartları pythonda <b> if , else, elif </b> ile sorguya alıyoruz. "
   ]
  },
  {
   "cell_type": "markdown",
   "metadata": {},
   "source": [
    "### Mantıksal sınama oparatörleri:\n"
   ]
  },
  {
   "cell_type": "markdown",
   "metadata": {},
   "source": [
    "<tr>\n",
    "<th><Name></th>\n",
    "<th><Address></th>\n",
    "<th><Salary></th>\n",
    "</tr> "
   ]
  },
  {
   "cell_type": "markdown",
   "metadata": {},
   "source": [
    " <table style=\"width:50%\">\n",
    "  <tr>\n",
    "    <th>Operatör</th>\n",
    "    <th colspan=\"2\">Anlamı</th>\n",
    "  </tr>\n",
    "  <tr style=\"width:50%\">\n",
    "    <td> a == b</td>\n",
    "    <td> a b ye eşit mi?</td>\n",
    "  </tr>\n",
    "     <tr style=\"width:50%\">\n",
    "    <td> a != b</td>\n",
    "    <td> a b ye eşit değil mi?</td>\n",
    "  </tr> <tr style=\"width:50%\">\n",
    "    <td> a < b </td>\n",
    "    <td> a b den küçük mü?</td>\n",
    "  </tr> <tr style=\"width:50%\">\n",
    "    <td> a >= b</td>\n",
    "    <td> a b ye eşit mi?</td>\n",
    "  </tr>\n",
    "</table> "
   ]
  },
  {
   "cell_type": "markdown",
   "metadata": {},
   "source": [
    "Şimdi birden fazla kere kullanılacak olan mantıksal sınamalar için orta okulda öğrendiğimiz mantık devrelerini kullanırız bunlar;\n",
    "\n",
    " <table style=\"width:30%\">\n",
    "<tr>\n",
    "    <td> & </td>\n",
    "    <td> ve (AND) </td>\n",
    "  </tr> <tr>\n",
    "    <td> | </td>\n",
    "    <td> veya (OR)</td>\n",
    "  </tr>\n",
    "</table> "
   ]
  },
  {
   "cell_type": "markdown",
   "metadata": {},
   "source": [
    "Koşullu ifadelerde bunları bir arada şu şekilde kullanırız; (bu örnekleri kendiniz güçlendirebilirsiniz...)"
   ]
  },
  {
   "cell_type": "code",
   "execution_count": 2,
   "metadata": {},
   "outputs": [
    {
     "name": "stdout",
     "output_type": "stream",
     "text": [
      "elektronik takımı 4 kişidir.\n"
     ]
    }
   ],
   "source": [
    "# ilk olarak bir veri grubu tanımlayalım misal...\n",
    "veriler = [\"Talha\",\"Melike\",\"Şamil\",\"Özge\"]\n",
    "#eğer kişi sayısı 4 ise if altındaki deilse else in altındaki çalışsın\n",
    "if len(veriler) == 4:\n",
    "    print(\"elektronik takımı 4 kişidir.\")\n",
    "else:\n",
    "    print(\"elektronik takımı kişi sayısı bu değil.\")"
   ]
  },
  {
   "cell_type": "markdown",
   "metadata": {},
   "source": [
    "# Döngüler (Loop)\n",
    "\n",
    "## while döngüsü:\n",
    "bir koşul yerine getirilene kadar döngüyü döndüren döngüdür. bunları en iyi örneklerle gösterebileceğimizden dolayı bir örnek verip şimdilik geçelim uygulamalarda kullandıkça aşinlığınız artacaktır."
   ]
  },
  {
   "cell_type": "code",
   "execution_count": 10,
   "metadata": {},
   "outputs": [
    {
     "name": "stdout",
     "output_type": "stream",
     "text": [
      "while döngüsü\n",
      "while döngüsü\n",
      "while döngüsü\n",
      "while döngüsü\n",
      "while döngüsü\n"
     ]
    }
   ],
   "source": [
    "x = 0\n",
    "while x < 5:\n",
    "    print(\"while döngüsü\")\n",
    "    # her seferinde x i bir kere artıralım\n",
    "    x = x+1"
   ]
  },
  {
   "cell_type": "markdown",
   "metadata": {},
   "source": [
    "## For döngüsü:\n",
    "Belirli bir sayıda işlem yapılmasını istediğimiz zaman for döngüsünü kullanılırız. Listeler içerisinden de for dögüsü yapılabilir. örnek vermek gerkirse; Listeleri birer matris olarak düşünelim matristeki her elemanın karesini almak istiyorum bunun için..."
   ]
  },
  {
   "cell_type": "code",
   "execution_count": 12,
   "metadata": {},
   "outputs": [
    {
     "name": "stdout",
     "output_type": "stream",
     "text": [
      "Talha\n",
      "Melike\n",
      "Şamil\n",
      "Özge\n"
     ]
    }
   ],
   "source": [
    "for takım_üyleri in veriler:\n",
    "    print(takım_üyleri)\n",
    "    "
   ]
  },
  {
   "cell_type": "code",
   "execution_count": 14,
   "metadata": {},
   "outputs": [
    {
     "name": "stdout",
     "output_type": "stream",
     "text": [
      "1\n",
      "4\n",
      "9\n",
      "16\n"
     ]
    }
   ],
   "source": [
    "sayisal = [1, 2, 3, 4]\n",
    "for sayilar in sayisal:\n",
    "    sayilar = sayilar**2\n",
    "    print(sayilar)"
   ]
  },
  {
   "cell_type": "markdown",
   "metadata": {},
   "source": [
    "pekala farklı bir kullanım daha görelim örneğin 1 den 10 kadar sayıları ikişer ikişer artırarak bu sayıların karesinin çıktılarını vermek istiyorum. Bunun için <b>range()</b> fonksiyonu kullanılabilir."
   ]
  },
  {
   "cell_type": "code",
   "execution_count": 17,
   "metadata": {},
   "outputs": [
    {
     "name": "stdout",
     "output_type": "stream",
     "text": [
      "1\n",
      "9\n",
      "25\n",
      "49\n",
      "81\n"
     ]
    }
   ],
   "source": [
    "for i in range(1,10,2):\n",
    "    i = i**2\n",
    "    print(i)"
   ]
  },
  {
   "cell_type": "markdown",
   "metadata": {},
   "source": [
    "o zaman biraz ilgin bir şey yapalım yukarıda tanımladığımız verileri indexlerinden çekerek bir arada yazdıralım... \n"
   ]
  },
  {
   "cell_type": "code",
   "execution_count": 23,
   "metadata": {},
   "outputs": [
    {
     "data": {
      "text/plain": [
       "['Talha', 'Melike', 'Şamil', 'Özge']"
      ]
     },
     "execution_count": 23,
     "metadata": {},
     "output_type": "execute_result"
    }
   ],
   "source": [
    "veriler"
   ]
  },
  {
   "cell_type": "code",
   "execution_count": 26,
   "metadata": {},
   "outputs": [
    {
     "name": "stdout",
     "output_type": "stream",
     "text": [
      "1:Talha\n",
      "2:Melike\n",
      "3:Şamil\n",
      "4:Özge\n"
     ]
    }
   ],
   "source": [
    "for i in range(0,4):\n",
    "    print(str(i+1) + \":\" + veriler[i])"
   ]
  },
  {
   "cell_type": "markdown",
   "metadata": {},
   "source": [
    "Döngülerde birde <b>iter()</b> fonkisyonu bulunmaktadır. Ayrıca bu fonkisyonun kullanılmasını öneriyorum."
   ]
  }
 ],
 "metadata": {
  "kernelspec": {
   "display_name": "Python 3",
   "language": "python",
   "name": "python3"
  },
  "language_info": {
   "codemirror_mode": {
    "name": "ipython",
    "version": 3
   },
   "file_extension": ".py",
   "mimetype": "text/x-python",
   "name": "python",
   "nbconvert_exporter": "python",
   "pygments_lexer": "ipython3",
   "version": "3.8.5"
  }
 },
 "nbformat": 4,
 "nbformat_minor": 4
}
