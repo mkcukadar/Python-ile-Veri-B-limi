{
 "cells": [
  {
   "cell_type": "markdown",
   "metadata": {},
   "source": [
    "# Python ile Veri Analizine Giriş_4:\n",
    "## Fonksiyonlar:\n",
    "\n",
    "Örneklendirmek gerekirse sürekli olarak bir matristen belirli bir veri grubu çekiorsunuz bunu yapmak için yazdığınız kod 5 satır sürekli kullanıyorsunuz. Bu durumlarda hazır fonksiyonlar kullanılabilir ya da sizlerde fonksiyon yazabilirsiniz. \n",
    "\n",
    "Mert Kaan Cukadar: mertkaacukadar@ieee.com\n"
   ]
  },
  {
   "cell_type": "markdown",
   "metadata": {},
   "source": [
    "Pythonda fonksiyonlar <b>def</b> ile tanımlanırlar. Satır başına <b>def</b> yazıldıktan sonra <b>fonksiyonun adını</b> yazıyoruz. Daha sonrasında parantez içine <b>girdiler</b> yazılır. (bir fonkisyon hiç girdi almayabiliriler.) "
   ]
  },
  {
   "cell_type": "code",
   "execution_count": 1,
   "metadata": {},
   "outputs": [],
   "source": [
    "def ilk_fonksiyon():\n",
    "    print(\"Girdisiz fonksiyon örneği...\")"
   ]
  },
  {
   "cell_type": "code",
   "execution_count": 3,
   "metadata": {},
   "outputs": [
    {
     "name": "stdout",
     "output_type": "stream",
     "text": [
      "Girdisiz fonksiyon örneği...\n"
     ]
    }
   ],
   "source": [
    "ilk_fonksiyon()"
   ]
  },
  {
   "cell_type": "markdown",
   "metadata": {},
   "source": [
    "Şimdi ise girdi olarak bir sayı fonksiyona verilsin ve o sayıya kadar olan tüm sayıların karesi bizlere çıktı olarak verilsin. Biraz zorlu gözüküyor gibi değil mi ?"
   ]
  },
  {
   "cell_type": "code",
   "execution_count": 28,
   "metadata": {},
   "outputs": [],
   "source": [
    "#burada öncelikle fonksiyornumuzu tanımlayalım...\n",
    "def kare_alma(x):\n",
    "    for sayilar in range(0,x):\n",
    "        sayilar = sayilar**2\n",
    "        print(sayilar)\n",
    "    "
   ]
  },
  {
   "cell_type": "code",
   "execution_count": 29,
   "metadata": {},
   "outputs": [
    {
     "name": "stdout",
     "output_type": "stream",
     "text": [
      "0\n",
      "1\n",
      "4\n",
      "9\n",
      "16\n"
     ]
    }
   ],
   "source": [
    "# kare alma için yazdığımız fonksiyonu çağırlaım.\n",
    "kare_alma(5)"
   ]
  },
  {
   "cell_type": "markdown",
   "metadata": {},
   "source": [
    "Pekala şimdi bir fonksiyona giren iki argümanı inceleyelim...\n"
   ]
  },
  {
   "cell_type": "code",
   "execution_count": 28,
   "metadata": {},
   "outputs": [],
   "source": [
    "\n",
    "z = 0\n",
    "def üs_al(x,y):\n",
    "    z = x**y\n",
    "    return(z)\n"
   ]
  },
  {
   "cell_type": "code",
   "execution_count": 29,
   "metadata": {},
   "outputs": [
    {
     "data": {
      "text/plain": [
       "81"
      ]
     },
     "execution_count": 29,
     "metadata": {},
     "output_type": "execute_result"
    }
   ],
   "source": [
    "üs_al(3,4)"
   ]
  },
  {
   "cell_type": "code",
   "execution_count": 30,
   "metadata": {},
   "outputs": [
    {
     "name": "stdout",
     "output_type": "stream",
     "text": [
      "0\n"
     ]
    }
   ],
   "source": [
    "print(z)"
   ]
  },
  {
   "cell_type": "markdown",
   "metadata": {},
   "source": [
    "Şimdi aslında return z derken değimek istediğim nokta fonksiyonun içerisinde tanımladığımız değişkene dışarıdan tekrar çağırdığımda erişememem. Bunun sebebi fonksiyonun içerisinde tanımladığım değişken <b>Yerel kapsamdadır (Local scope)</b> Yani ben bu değişkene sadece fonksiyonun içerisinden çağırılabilr.\n",
    "\n",
    "Bunun önüne geçmek için fonksiyonda döndü olarak verdiğimiz değişkeni <b>Genel kapsama (Global Scope)</b> almaylıyız.\n",
    "O zaman yukarıda fonksiyonde verilen çıktıyı global kapsama alıp birlikte inceleyelim."
   ]
  },
  {
   "cell_type": "code",
   "execution_count": 31,
   "metadata": {},
   "outputs": [],
   "source": [
    "z = 0\n",
    "def üs_al(x,y):\n",
    "    global z\n",
    "    z = x**y\n",
    "    return(z)"
   ]
  },
  {
   "cell_type": "code",
   "execution_count": 32,
   "metadata": {},
   "outputs": [
    {
     "data": {
      "text/plain": [
       "25"
      ]
     },
     "execution_count": 32,
     "metadata": {},
     "output_type": "execute_result"
    }
   ],
   "source": [
    "üs_al(5,2)"
   ]
  },
  {
   "cell_type": "code",
   "execution_count": 33,
   "metadata": {},
   "outputs": [
    {
     "name": "stdout",
     "output_type": "stream",
     "text": [
      "25\n"
     ]
    }
   ],
   "source": [
    "print(z)"
   ]
  },
  {
   "cell_type": "markdown",
   "metadata": {},
   "source": [
    "Görüldüğü üzere z fonksiyon içerisinde local bir kapsamda ayrılarak global kapsam içerisine dahil edildi."
   ]
  },
  {
   "cell_type": "markdown",
   "metadata": {},
   "source": [
    "Kapsamlardan söz etmişken pythonda bazı nesneler modüllerin içerisinde yer alıyor bu nesnelerde <b>Gömülü Kapsam (Built-in Scope) </b> olarak adlandırılır."
   ]
  },
  {
   "cell_type": "code",
   "execution_count": 36,
   "metadata": {},
   "outputs": [],
   "source": [
    "import builtins\n",
    "#dir(builtins)\n",
    "\n",
    "#yukarıdaki dir li olan komutu başlatırsanız bu kapsamdaki nesneleri görebilirsiniz"
   ]
  },
  {
   "cell_type": "markdown",
   "metadata": {},
   "source": [
    "# Modüller"
   ]
  },
  {
   "cell_type": "markdown",
   "metadata": {},
   "source": [
    "Python un en önemli özelliklerinden birisi modüllerdir modüller sayesinde yazdığınız uzun uzun kodları daha sonra başka bir programda uzun uzun yazmamanız için modüller pythonuun en kullanışlı öazelliklerinden biridir. Bir modül kullanmak için modülü <b>import</b> ile yazdığınız programa çağırmanız gerekir. Biz Math modülünü kullanacağız."
   ]
  },
  {
   "cell_type": "code",
   "execution_count": 37,
   "metadata": {},
   "outputs": [
    {
     "data": {
      "text/plain": [
       "120"
      ]
     },
     "execution_count": 37,
     "metadata": {},
     "output_type": "execute_result"
    }
   ],
   "source": [
    "import math\n",
    "math.factorial(5)"
   ]
  },
  {
   "cell_type": "markdown",
   "metadata": {},
   "source": [
    "Nokta yanına yerleştirdiğimiz fonksiyon math modülünün içerisinden çekilmiş faktoriyel fonkisyonudur. Atıyorum math modülünde çalışırken uzun uzadıya math ile çapırmak yerine farklı bir isim ile isimlendirebilirisiniz. \n"
   ]
  },
  {
   "cell_type": "code",
   "execution_count": 38,
   "metadata": {},
   "outputs": [
    {
     "data": {
      "text/plain": [
       "120"
      ]
     },
     "execution_count": 38,
     "metadata": {},
     "output_type": "execute_result"
    }
   ],
   "source": [
    "import math as mt\n",
    "mt.factorial(5)\n"
   ]
  },
  {
   "cell_type": "markdown",
   "metadata": {},
   "source": [
    "Modüller pythonda paketler olarak isimlendirilirler. Bu sayede hazır olan paketlerden önceden geliştirilmiş amaca yönelik fonksiyonları kullanabilriz. İLlerleyen zamanlarda farklı paketleride kullanacağız. Bazı paketler pyhonun normal kurulumu ile gelmeyebilir bunun için ayrıca paket kullanırken mutlaka nasıl dahil edildiğini araştırnız."
   ]
  },
  {
   "cell_type": "code",
   "execution_count": 48,
   "metadata": {},
   "outputs": [],
   "source": [
    "import numpy"
   ]
  },
  {
   "cell_type": "markdown",
   "metadata": {},
   "source": [
    "Bir Paketi yükleme için linuxta pip3 install \"paket ismi kullanılabilir\"... paket konusunda bilgi almak isterseniz <b>help(\"paket adı\")</b> kullanılabilir..."
   ]
  },
  {
   "cell_type": "markdown",
   "metadata": {},
   "source": [
    "Aslına bakarsanız Pythonda bir noktadan çektirğiniz veriler  hani bu çağırıdğımız fonsiyonlar .py uzantılı bir dosyaya kaydedilmiş fonksiyonlar bütünüdür. Kısaca modüller farklı bir fonksiyonlarla dolu .py uzantılı dosyalar bütünü. İleri çalışmalarda yazacağımız fonksiyonları modül olarak hazırlyabiliriz... Şindilik aklınızda bulunusun. 8)\n"
   ]
  },
  {
   "cell_type": "code",
   "execution_count": 5,
   "metadata": {},
   "outputs": [
    {
     "name": "stdout",
     "output_type": "stream",
     "text": [
      "3.141592653589793\n"
     ]
    }
   ],
   "source": [
    "from numpy import pi\n",
    "print(pi)"
   ]
  },
  {
   "cell_type": "code",
   "execution_count": null,
   "metadata": {},
   "outputs": [],
   "source": []
  }
 ],
 "metadata": {
  "kernelspec": {
   "display_name": "Python 3",
   "language": "python",
   "name": "python3"
  },
  "language_info": {
   "codemirror_mode": {
    "name": "ipython",
    "version": 3
   },
   "file_extension": ".py",
   "mimetype": "text/x-python",
   "name": "python",
   "nbconvert_exporter": "python",
   "pygments_lexer": "ipython3",
   "version": "3.8.5"
  }
 },
 "nbformat": 4,
 "nbformat_minor": 4
}
