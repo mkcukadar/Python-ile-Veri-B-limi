{
 "cells": [
  {
   "cell_type": "markdown",
   "metadata": {},
   "source": [
    "# PYTHON İLE VERİ ANALİZİNE GİRİS_1:\n",
    "## Temel Aritmatik işlemlerin incelenmesi: \n",
    "Pythonda matematiksel işlemler yapılırken kullanılan oparetörleri teker teker inceleyelim...\n",
    "\n",
    "Mert Kaan Cukadar: mertkaacukadar@ieee.org"
   ]
  },
  {
   "cell_type": "code",
   "execution_count": 11,
   "metadata": {},
   "outputs": [
    {
     "name": "stdout",
     "output_type": "stream",
     "text": [
      "22\n",
      "63\n"
     ]
    }
   ],
   "source": [
    "#Toplama oparetörü... & çıkarma operatörü ...\n",
    "a = 15 + 7\n",
    "b = 70 - 7\n",
    "# Eşitliklerin çağırılması...\n",
    "print(a)\n",
    "print(b)\n"
   ]
  },
  {
   "cell_type": "code",
   "execution_count": 13,
   "metadata": {},
   "outputs": [
    {
     "name": "stdout",
     "output_type": "stream",
     "text": [
      "1386\n"
     ]
    }
   ],
   "source": [
    "# çarpı işleminde ise yıldız '*' kullanılır.\n",
    "carpım = a*b \n",
    "print(carpım)"
   ]
  },
  {
   "cell_type": "markdown",
   "metadata": {},
   "source": [
    "## Çarpma, Bölme , Mod, Üs alma Operatörleri\n",
    "    Bu operatötler genel bi şekilde şu şekilde gösterebiliriz..."
   ]
  },
  {
   "cell_type": "code",
   "execution_count": 14,
   "metadata": {},
   "outputs": [
    {
     "data": {
      "text/plain": [
       "5"
      ]
     },
     "execution_count": 14,
     "metadata": {},
     "output_type": "execute_result"
    }
   ],
   "source": [
    "a = 5\n",
    "a**2 #üs alma operatörü \n",
    "\n",
    "a*b # çarpım operatörü\n",
    "\n",
    "a / b #bölme operatörü \n",
    "\n",
    "a % b #mod alma operatörü pythonda bu şekilde yazılırlar...\n"
   ]
  },
  {
   "cell_type": "markdown",
   "metadata": {},
   "source": [
    "Bir IDE(Integrated Devolopment Environment) da çalıştığınız zaman bu işlemlerin çıktısını almak için <b>print()</b> fonksiyonunun içinde yazmak gerekir. Ekrana herhangi bir komut yazdırmak içinde bu komutları aynı şekilde kullanabilirsiniz."
   ]
  },
  {
   "cell_type": "code",
   "execution_count": 45,
   "metadata": {},
   "outputs": [
    {
     "name": "stdout",
     "output_type": "stream",
     "text": [
      "a degerimiz:\n",
      " merhabalar ben string tipindeyim\n",
      "ekrana bir şeyler yazdırırken tek tırnak ya da çift tırnak kullanılması gerekmetedir.\n"
     ]
    }
   ],
   "source": [
    "print(\"a degerimiz:\\n \" + str(a) )\n",
    "\n",
    "print(\"ekrana bir şeyler yazdırırken tek tırnak ya da çift tırnak kullanılması gerekmetedir.\")"
   ]
  },
  {
   "cell_type": "markdown",
   "metadata": {},
   "source": [
    "## Değişkenler:\n",
    "Değişkenler tüm programlama dillerinin ortak birer özelliğidirler. Bir değer daha sonra kulanmak üzere adlandırmamız anlamına gelebilir en basit biçimiyle. örenklendirmek gerekir ise;\n"
   ]
  },
  {
   "cell_type": "code",
   "execution_count": 32,
   "metadata": {},
   "outputs": [
    {
     "name": "stdout",
     "output_type": "stream",
     "text": [
      "pi degiskenin bastirilmasi: (3, 141592)\n"
     ]
    }
   ],
   "source": [
    "pi = 3,141592 # pi sayısını uzun uzadıyas sürekli olarak yazmamak için pi değişkenine atıyoruz.\n",
    "print(\"pi degiskenin bastirilmasi: \" + str(pi))\n"
   ]
  },
  {
   "cell_type": "markdown",
   "metadata": {},
   "source": [
    "## Devam ...\n",
    "Depişkenlere atadığımız ger bir veri farklı türlerde olabilir. işlemlerin esnasında bu türlerin beraber kullanılması, kullanılamaması durumu ortaya çıkabilir. bu verilrin ne tipte olduklarını kontrol edebilmemiz için <b>type()</b>  fonksiyonundan faydalanılır.\n"
   ]
  },
  {
   "cell_type": "code",
   "execution_count": 33,
   "metadata": {},
   "outputs": [
    {
     "data": {
      "text/plain": [
       "int"
      ]
     },
     "execution_count": 33,
     "metadata": {},
     "output_type": "execute_result"
    }
   ],
   "source": [
    "type(17)"
   ]
  },
  {
   "cell_type": "code",
   "execution_count": 34,
   "metadata": {},
   "outputs": [
    {
     "data": {
      "text/plain": [
       "str"
      ]
     },
     "execution_count": 34,
     "metadata": {},
     "output_type": "execute_result"
    }
   ],
   "source": [
    "a = \"merhabalar ben string tipindeyim\"\n",
    "type(a)\n"
   ]
  },
  {
   "cell_type": "markdown",
   "metadata": {},
   "source": [
    "Örnek olarak verilebilirler."
   ]
  },
  {
   "cell_type": "markdown",
   "metadata": {},
   "source": [
    "## Mantıksal veriler:\n",
    "Bu veri tipleri koşul ifadelerinde filtre olarak kullanılabilir ve kontol cümleleri için önemli veri tipleridir. bu veri tipleri ifade edilirken mantıksal operatörler farklı biçimlerde kullanılırlar. \n",
    "\n",
    "Bu bool veri tipine ilerleyen dönemlerde daha sık değinecğiz...\n",
    "\n",
    "## Bytes veri tipi:\n",
    "encode ve decode işlemlerinde kullnılan bytes veri tipi haberleşme açısından önem arz etmektedir. Pythonda veri tipi karakter standarlarına uygun olarak encode ve decode edilebilmektedir. Türkçe karakterler UTF-8 standartlarında yer almaktadır. bir veri tipini bytes veri tipine çevirmek için <b>.encode() & .decode </b> motodları kullanılır. metodun uygulanmasını istedğimiz standartlar parantez içerisinde belirtilmelidir. \n",
    "    \n"
   ]
  },
  {
   "cell_type": "code",
   "execution_count": 41,
   "metadata": {},
   "outputs": [
    {
     "name": "stdout",
     "output_type": "stream",
     "text": [
      "byte veri tipi\n"
     ]
    }
   ],
   "source": [
    "metin = \"byte veri tipi\"\n",
    "print(metin)"
   ]
  },
  {
   "cell_type": "code",
   "execution_count": 44,
   "metadata": {},
   "outputs": [
    {
     "name": "stdout",
     "output_type": "stream",
     "text": [
      "b'byte veri tipi'\n",
      "byte veri tipi\n"
     ]
    }
   ],
   "source": [
    "byte_tipi = metin.encode(\"utf-8\")\n",
    "print(byte_tipi)\n",
    "byte_metin = byte_tipi.decode(\"utf-8\")\n",
    "print(byte_metin)\n"
   ]
  }
 ],
 "metadata": {
  "kernelspec": {
   "display_name": "Python 3",
   "language": "python",
   "name": "python3"
  },
  "language_info": {
   "codemirror_mode": {
    "name": "ipython",
    "version": 3
   },
   "file_extension": ".py",
   "mimetype": "text/x-python",
   "name": "python",
   "nbconvert_exporter": "python",
   "pygments_lexer": "ipython3",
   "version": "3.8.5"
  },
  "toc-autonumbering": true
 },
 "nbformat": 4,
 "nbformat_minor": 4
}
