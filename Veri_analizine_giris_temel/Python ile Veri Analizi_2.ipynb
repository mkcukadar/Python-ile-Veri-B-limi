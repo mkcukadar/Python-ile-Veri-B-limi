{
 "cells": [
  {
   "cell_type": "markdown",
   "metadata": {},
   "source": [
    "# Veri Yapıları 25/01/21\n",
    "Mert Kaan Cukadar: mertkaacukadar@ieee.org /  https://github.com/mkcukadar\n",
    "                    \n",
    "\n",
    "## list (liste)\n",
    "listeler sıralı verilerden oluşan değiştirilebilir (mutable) verilerdir. liste içerisine yerleştirilecek olan veriler [] içinde virgül ile ayrılarak gösterilirler. Liste elemanları ilk dökümandaki veri tiplerinin tamamını içerebilirler. listeler şu şekilde örneklendirilebilirler..."
   ]
  },
  {
   "cell_type": "code",
   "execution_count": 1,
   "metadata": {},
   "outputs": [],
   "source": [
    "veriler = [1 ,4.9142,    \n",
    "2, 7.1201,    \n",
    "3, 8.8456,   \n",
    "4, 10.8113,   \n",
    "5, 13.2231]"
   ]
  },
  {
   "cell_type": "code",
   "execution_count": 2,
   "metadata": {},
   "outputs": [
    {
     "data": {
      "text/plain": [
       "[1, 4.9142, 2, 7.1201, 3, 8.8456, 4, 10.8113, 5, 13.2231]"
      ]
     },
     "execution_count": 2,
     "metadata": {},
     "output_type": "execute_result"
    }
   ],
   "source": [
    "veriler"
   ]
  },
  {
   "cell_type": "markdown",
   "metadata": {},
   "source": [
    "Listeler daha öncede belirtmiş olduğumuz üzere içerisinde sadece sayı bulundurmak zorunda değildir. Listeler içlerinde her veri tipini bulundurabilirler. bunuda Örneklendirmemiz gerekirse;"
   ]
  },
  {
   "cell_type": "code",
   "execution_count": 3,
   "metadata": {},
   "outputs": [
    {
     "name": "stdout",
     "output_type": "stream",
     "text": [
      "['Mert', 'Buğra', 'Gökçe', 'Beste']\n"
     ]
    }
   ],
   "source": [
    "veriler_2 = [\"Mert\",\"Buğra\",\"Gökçe\",\"Beste\"]\n",
    "print(veriler_2)"
   ]
  },
  {
   "cell_type": "markdown",
   "metadata": {},
   "source": [
    "Hatta ve hatta liste içerisinde listeleri de veri olarak kullanabilirsiniz... & listeler içerisinde değişkenleride bulundurabilirsiniz. "
   ]
  },
  {
   "cell_type": "code",
   "execution_count": 4,
   "metadata": {},
   "outputs": [
    {
     "name": "stdout",
     "output_type": "stream",
     "text": [
      "[[1, 4.9142, 2, 7.1201, 3, 8.8456, 4, 10.8113, 5, 13.2231], ['Mert', 'Buğra', 'Gökçe', 'Beste']]\n"
     ]
    }
   ],
   "source": [
    "birlesik_listeler = [veriler , veriler_2]\n",
    "print(birlesik_listeler)"
   ]
  },
  {
   "cell_type": "markdown",
   "metadata": {},
   "source": [
    "## Listenin Veri Tipleri & Liste Uzunluğu...\n",
    "Şimdi yukarıda belirlediğimiz listelere bakacak olursak ilk veri grubu sayılardan ikinci veri grubu metinden üçüncü veri grubu ise hem sayılardan hemde verilerden oluşmaktadır. tekrardan önceki notumuzdaki <b> type() </b> fonksiyonu kullanılarak bu veri gruplarının tiplerini inceleyelim. "
   ]
  },
  {
   "cell_type": "code",
   "execution_count": 5,
   "metadata": {},
   "outputs": [
    {
     "data": {
      "text/plain": [
       "list"
      ]
     },
     "execution_count": 5,
     "metadata": {},
     "output_type": "execute_result"
    }
   ],
   "source": [
    "type(veriler)"
   ]
  },
  {
   "cell_type": "code",
   "execution_count": 6,
   "metadata": {},
   "outputs": [
    {
     "data": {
      "text/plain": [
       "list"
      ]
     },
     "execution_count": 6,
     "metadata": {},
     "output_type": "execute_result"
    }
   ],
   "source": [
    "type(birlesik_listeler)"
   ]
  },
  {
   "cell_type": "markdown",
   "metadata": {},
   "source": [
    "Görüldüğü üzere kulanılan type fonkiyonu veri grubunun tipini bizelere döndü olarak veriyor. Buda şimdiden bizlere şunu gösteriyor farklı veri grubu tipleride mevcutta bulunmakta... Verilerin uzunluuna bakacak olursak;\n",
    "\n"
   ]
  },
  {
   "cell_type": "code",
   "execution_count": 7,
   "metadata": {},
   "outputs": [
    {
     "data": {
      "text/plain": [
       "10"
      ]
     },
     "execution_count": 7,
     "metadata": {},
     "output_type": "execute_result"
    }
   ],
   "source": [
    "len(veriler)"
   ]
  },
  {
   "cell_type": "code",
   "execution_count": 8,
   "metadata": {},
   "outputs": [
    {
     "data": {
      "text/plain": [
       "2"
      ]
     },
     "execution_count": 8,
     "metadata": {},
     "output_type": "execute_result"
    }
   ],
   "source": [
    "len(birlesik_listeler)\n",
    "#burada beklediğimiz sonuç liste içerisinde bulunan ayrı veri gruplarının sayısını bize bildirmesi. \n"
   ]
  },
  {
   "cell_type": "markdown",
   "metadata": {},
   "source": [
    "## Verilere Erişmek...\n",
    "Listelerdeki elemanlara erişmek için diğer dillerden farklı olarak saymaya sıfırdan başlıyoruz. sıralama pythonda 0 dan başlayacak şekilde numaralandırlımıştır. bir verinin listedeki sıra numarası o verinin indexidir. Bir listenin içerisindeki verinin indexini öğrenmek için listenin isminin yanına köşeli parantez ile index numarası yazılır örneklendirmek gerekirse;\n"
   ]
  },
  {
   "cell_type": "code",
   "execution_count": 9,
   "metadata": {},
   "outputs": [
    {
     "data": {
      "text/plain": [
       "1"
      ]
     },
     "execution_count": 9,
     "metadata": {},
     "output_type": "execute_result"
    }
   ],
   "source": [
    "#Verilerin ilk verisine erişmek için...\n",
    "veriler[0]"
   ]
  },
  {
   "cell_type": "code",
   "execution_count": 10,
   "metadata": {},
   "outputs": [
    {
     "data": {
      "text/plain": [
       "13.2231"
      ]
     },
     "execution_count": 10,
     "metadata": {},
     "output_type": "execute_result"
    }
   ],
   "source": [
    "\n",
    "#verilerin son verisine erişmek için ise...\n",
    "veriler[-1]\n"
   ]
  },
  {
   "cell_type": "markdown",
   "metadata": {},
   "source": [
    "\n",
    "Peki bir liste içerisinde birden çok veriye erişmek için : kullanılır örneklendirmek gerekirse..."
   ]
  },
  {
   "cell_type": "code",
   "execution_count": 11,
   "metadata": {},
   "outputs": [
    {
     "data": {
      "text/plain": [
       "[1, 4.9142]"
      ]
     },
     "execution_count": 11,
     "metadata": {},
     "output_type": "execute_result"
    }
   ],
   "source": [
    "veriler[0:2]"
   ]
  },
  {
   "cell_type": "code",
   "execution_count": 12,
   "metadata": {},
   "outputs": [
    {
     "data": {
      "text/plain": [
       "[1, 2, 3, 4, 5]"
      ]
     },
     "execution_count": 12,
     "metadata": {},
     "output_type": "execute_result"
    }
   ],
   "source": [
    "veriler[0:10:2] \n",
    "# Verilere ikişer ikişer erişimi sağlar."
   ]
  },
  {
   "cell_type": "markdown",
   "metadata": {},
   "source": [
    "\n",
    "Şimdi liste içerisinde oluşturduğumuz listelerin içerisindeki verilere erişelim. matristeki elemanlara erişime bezetilebilir daha önce octave ya da matlab kullanan arkadaşlarımıza aşina gelebilir.\n"
   ]
  },
  {
   "cell_type": "code",
   "execution_count": 13,
   "metadata": {},
   "outputs": [
    {
     "data": {
      "text/plain": [
       "[[1, 4.9142, 2, 7.1201, 3, 8.8456, 4, 10.8113, 5, 13.2231],\n",
       " ['Mert', 'Buğra', 'Gökçe', 'Beste']]"
      ]
     },
     "execution_count": 13,
     "metadata": {},
     "output_type": "execute_result"
    }
   ],
   "source": [
    "birlesik_listeler"
   ]
  },
  {
   "cell_type": "code",
   "execution_count": 14,
   "metadata": {},
   "outputs": [
    {
     "data": {
      "text/plain": [
       "'Mert'"
      ]
     },
     "execution_count": 14,
     "metadata": {},
     "output_type": "execute_result"
    }
   ],
   "source": [
    "# Şimdi ikinci listenin birinci elemanına erişim sağlayalım\n",
    "birlesik_listeler[1][0]"
   ]
  },
  {
   "cell_type": "markdown",
   "metadata": {},
   "source": [
    "## Listelerde kullanılabilecek motodlar:\n",
    "\n",
    "liste içerisinde bir verinin hangi sırada olduğunu öğrenmek için <b>.index()</b> metodu kullanılablir.\n",
    "\n"
   ]
  },
  {
   "cell_type": "code",
   "execution_count": 15,
   "metadata": {},
   "outputs": [
    {
     "name": "stdout",
     "output_type": "stream",
     "text": [
      "1\n",
      "Buğra\n"
     ]
    }
   ],
   "source": [
    "print(veriler_2.index('Buğra'))\n",
    "\n",
    "print(veriler_2[1])"
   ]
  },
  {
   "cell_type": "markdown",
   "metadata": {},
   "source": [
    "listeden bir veri silip bir başka değişkene atamak için <b>.pop</b> metodu kullanılır. bunu örneklendirmemiz gerkirse..."
   ]
  },
  {
   "cell_type": "code",
   "execution_count": 16,
   "metadata": {},
   "outputs": [
    {
     "name": "stdout",
     "output_type": "stream",
     "text": [
      "verilerin içinden sıfır indexi silinip isim değişkenine atandı: Mert\n",
      "['Buğra', 'Gökçe', 'Beste']\n"
     ]
    }
   ],
   "source": [
    "isim = veriler_2.pop(0)\n",
    "print(\"verilerin içinden sıfır indexi silinip isim değişkenine atandı: \" + isim )\n",
    "print(veriler_2)"
   ]
  },
  {
   "cell_type": "markdown",
   "metadata": {},
   "source": [
    "\n",
    "pekala listeden bir eleman çıkarıp bir değişkene atamak için bir metod var ise mutlaka bir listeye eleman atamak içinde bir metod vardır. Bu metod <b>.append()</b> metodudur.\n"
   ]
  },
  {
   "cell_type": "code",
   "execution_count": 17,
   "metadata": {},
   "outputs": [
    {
     "name": "stdout",
     "output_type": "stream",
     "text": [
      "['Buğra', 'Gökçe', 'Beste', 'Bilim Takımı']\n"
     ]
    }
   ],
   "source": [
    "#veriler_2 veri grubuna ekleme yapılması için .append metodu\n",
    "veriler_2.append(\"Bilim Takımı\")\n",
    "print(veriler_2)"
   ]
  },
  {
   "cell_type": "markdown",
   "metadata": {},
   "source": [
    "bir listeye yeni bir veri eklemek için + operatörüde daha kolay bir alternatif olabilir bunu şu şekilde örneklendirebiliriz;\n"
   ]
  },
  {
   "cell_type": "code",
   "execution_count": 18,
   "metadata": {},
   "outputs": [
    {
     "name": "stdout",
     "output_type": "stream",
     "text": [
      "[1, 2, 3, 4, 5, 6, 7]\n"
     ]
    }
   ],
   "source": [
    "sayilar = [1, 2 , 3 , 4 ]\n",
    "sayilar = sayilar  + [5, 6 , 7 ]\n",
    "print(sayilar)"
   ]
  },
  {
   "cell_type": "code",
   "execution_count": 19,
   "metadata": {},
   "outputs": [
    {
     "name": "stdout",
     "output_type": "stream",
     "text": [
      "verilerin ilk hali: [1, 4.9142, 2, 7.1201, 3, 8.8456, 4, 10.8113, 5, 13.2231]\n",
      "[1, 4.9142, 2, 7.1201, 3, 8.8456, 4, 10.8113, 5, 13.2231, 1, 2, 3, 4, 5, 6, 7]\n"
     ]
    }
   ],
   "source": [
    "#aynı şekilde buradaki sayilar listesi aynı mantıkta başka listelerle toplanabilir...\n",
    "print('verilerin ilk hali: ' + str(veriler))\n",
    "veriler = veriler + sayilar\n",
    "print(veriler)"
   ]
  },
  {
   "cell_type": "markdown",
   "metadata": {},
   "source": [
    "## Ek metodlar ve fonksiyonlar\n",
    "\n",
    "Bu bölümde değinilecek olan metodlar önem arz etmektedir araştırılıp denenmesini öneriyorum. iki listeyi birleştirmek için <b> .extend()</b> metodu kulanılabilir. Bir listedeki bir elemanı silmek ve herhangi bir değişkene atama yapmamak için direk olarak <b>del()</b> fonkisyonu kullanılabilirbuna alternatif olarak <b>.remove()</b> metodu kullanılabilir."
   ]
  },
  {
   "cell_type": "markdown",
   "metadata": {},
   "source": [
    "# Sıralama ve Tersten yazdırma:\n",
    "\n",
    "Liste Elemanlarını sıralamak için <b>sorted()</b> fonksiyonu kullanılır. Bununla birlikte <b>.reverse()</b> metodu tersten yazdırmak için kullanılabilir.\n"
   ]
  },
  {
   "cell_type": "markdown",
   "metadata": {},
   "source": [
    "# Tuple (Demet) Veri yapıları:\n",
    "Tuple veri yapısı listeye çok benzerdir ancak (unmutabe) değiştirilemez bir veri yapısır kodlama esnasında değiştirilemez veriler yerleştirilmesini olası hataların önüne geçilmesini istiyorsanız bu veri yapısını kullanabilrsiniz. Unutmayın Tuple veri yapısı daha güvenlidir...\n",
    "\n",
    "Kısaca örneklendirmek gerekirse;\n"
   ]
  },
  {
   "cell_type": "code",
   "execution_count": 20,
   "metadata": {},
   "outputs": [],
   "source": [
    "tuple = (12 , 14 , 15 , 14)"
   ]
  },
  {
   "cell_type": "code",
   "execution_count": 21,
   "metadata": {},
   "outputs": [
    {
     "data": {
      "text/plain": [
       "(12, 14, 15, 14)"
      ]
     },
     "execution_count": 21,
     "metadata": {},
     "output_type": "execute_result"
    }
   ],
   "source": [
    "tuple"
   ]
  },
  {
   "cell_type": "markdown",
   "metadata": {},
   "source": [
    "# Set (küme) yapısı:\n",
    "Herhangi bir sıralama olmaksızın ancak her itemden bir şekilde olacak şekilde matematikten gelen küme tanımından alınan bir veri yapısıdır <b>set()</b> fonksiyonu ile çağırılır. değiştirlebilir (mutable) veri yapılarıdır.\n"
   ]
  },
  {
   "cell_type": "code",
   "execution_count": 23,
   "metadata": {},
   "outputs": [
    {
     "data": {
      "text/plain": [
       "{1, 5, 6, 8}"
      ]
     },
     "execution_count": 23,
     "metadata": {},
     "output_type": "execute_result"
    }
   ],
   "source": [
    "set_1 = [1, 5 , 5 , 8 , 6]\n",
    "set_cevirme = set(set_1)\n",
    "set_cevirme"
   ]
  },
  {
   "cell_type": "markdown",
   "metadata": {},
   "source": [
    "# Dictionary (Sözlük) Veri Yapısı:\n",
    "Sözlük veri yapısı anahtar kelimelerin karşılık heldiği cevaplardan oluşmaktadır. Diğer dillerde fazla karışlaşılan bir veri yapısı değildir. Her kelimeye karşılık gelen bir veri vardır. Bir sözlük veri listesi oluşturmak için <b>dict()</b> fonksiyonu ya da küme parantezi kullanılır.\n",
    "\n",
    "Örneklendimemiz gerekirse;"
   ]
  },
  {
   "cell_type": "code",
   "execution_count": 26,
   "metadata": {},
   "outputs": [
    {
     "name": "stdout",
     "output_type": "stream",
     "text": [
      "{'Ocak': 1.0}\n"
     ]
    },
    {
     "data": {
      "text/plain": [
       "1.0"
      ]
     },
     "execution_count": 26,
     "metadata": {},
     "output_type": "execute_result"
    }
   ],
   "source": [
    "Sözlük = {'Ocak': 01.0}\n",
    "print(Sözlük)\n",
    "\n",
    "Sözlük['Ocak']"
   ]
  },
  {
   "cell_type": "markdown",
   "metadata": {},
   "source": [
    "Bir listenin içinde verinin bulunu bulunmadığını kontrol etmek...\n"
   ]
  },
  {
   "cell_type": "code",
   "execution_count": 27,
   "metadata": {},
   "outputs": [
    {
     "data": {
      "text/plain": [
       "True"
      ]
     },
     "execution_count": 27,
     "metadata": {},
     "output_type": "execute_result"
    }
   ],
   "source": [
    "\"Ocak\" in Sözlük"
   ]
  },
  {
   "cell_type": "code",
   "execution_count": 28,
   "metadata": {},
   "outputs": [
    {
     "data": {
      "text/plain": [
       "False"
      ]
     },
     "execution_count": 28,
     "metadata": {},
     "output_type": "execute_result"
    }
   ],
   "source": [
    "'Subay' in Sözlük"
   ]
  }
 ],
 "metadata": {
  "kernelspec": {
   "display_name": "Python 3",
   "language": "python",
   "name": "python3"
  },
  "language_info": {
   "codemirror_mode": {
    "name": "ipython",
    "version": 3
   },
   "file_extension": ".py",
   "mimetype": "text/x-python",
   "name": "python",
   "nbconvert_exporter": "python",
   "pygments_lexer": "ipython3",
   "version": "3.8.5"
  }
 },
 "nbformat": 4,
 "nbformat_minor": 4
}
