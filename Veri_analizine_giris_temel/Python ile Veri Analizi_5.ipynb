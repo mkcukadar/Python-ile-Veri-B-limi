{
 "cells": [
  {
   "cell_type": "markdown",
   "metadata": {},
   "source": [
    "# Python ile Veri Analizi_5:\n",
    "\n",
    "Mert Kaan Cukadar: mertkaacukadar@ieee.org"
   ]
  },
  {
   "cell_type": "markdown",
   "metadata": {},
   "source": [
    "## Hata ayıklama\n",
    "Pythonda program yazarken kodunuzda eğer yanlış bir kullanım varsa bu durum hakkında karşınıza bir hata mesajı alırsınız. Örneklendirmek gerkirse pythonde bir fonkiyon içine tanımlanmamış argüman yerleştiremezsiniz ya da bir sayıyı sıfıra bölemezsiniz bunlar için farklı farklı error ler alacaksınızdır."
   ]
  },
  {
   "cell_type": "code",
   "execution_count": 1,
   "metadata": {},
   "outputs": [
    {
     "ename": "ZeroDivisionError",
     "evalue": "division by zero",
     "output_type": "error",
     "traceback": [
      "\u001b[0;31m---------------------------------------------------------------------------\u001b[0m",
      "\u001b[0;31mZeroDivisionError\u001b[0m                         Traceback (most recent call last)",
      "\u001b[0;32m<ipython-input-1-32d2f57fce17>\u001b[0m in \u001b[0;36m<module>\u001b[0;34m\u001b[0m\n\u001b[1;32m      1\u001b[0m \u001b[0mx\u001b[0m \u001b[0;34m=\u001b[0m \u001b[0;36m10\u001b[0m\u001b[0;34m\u001b[0m\u001b[0;34m\u001b[0m\u001b[0m\n\u001b[0;32m----> 2\u001b[0;31m \u001b[0mx\u001b[0m \u001b[0;34m/\u001b[0m \u001b[0;36m0\u001b[0m\u001b[0;34m\u001b[0m\u001b[0;34m\u001b[0m\u001b[0m\n\u001b[0m",
      "\u001b[0;31mZeroDivisionError\u001b[0m: division by zero"
     ]
    }
   ],
   "source": [
    "x = 10\n",
    "x / 0"
   ]
  },
  {
   "cell_type": "markdown",
   "metadata": {},
   "source": [
    "Hata mesajının en son satırır bizlere ortaya çıkan hatanın ne olduğunu gösterir. Pythonda bu hataların önüne geçmenin bir yolu <b> try , except </b> kelimelerinin kullanımından geçer."
   ]
  },
  {
   "cell_type": "code",
   "execution_count": 4,
   "metadata": {},
   "outputs": [
    {
     "name": "stdout",
     "output_type": "stream",
     "text": [
      "Hata mesajını biz veriyoruz\n"
     ]
    }
   ],
   "source": [
    "x = 10 \n",
    "try:\n",
    "    x / 0\n",
    "except:\n",
    "    print(\"Hata mesajını biz veriyoruz\")"
   ]
  },
  {
   "cell_type": "markdown",
   "metadata": {},
   "source": [
    "Şimdi birde bu yazdıklarımızı bir foksiyon içerisinde test edelim ve alınacak spesifik bir hatanın ayıklanmasını gözlemleyelim."
   ]
  },
  {
   "cell_type": "code",
   "execution_count": 12,
   "metadata": {},
   "outputs": [],
   "source": [
    "def karekok(x):\n",
    "    try:\n",
    "        z = x ** 0.5\n",
    "        print(z)\n",
    "    except TypeError:\n",
    "        print(\"yanlış formatta veri girdiniz \")\n",
    "        print(x)\n"
   ]
  },
  {
   "cell_type": "raw",
   "metadata": {},
   "source": [
    "Düzgün bir şekilde kodumuzu çalıştıralım..."
   ]
  },
  {
   "cell_type": "code",
   "execution_count": 13,
   "metadata": {},
   "outputs": [
    {
     "name": "stdout",
     "output_type": "stream",
     "text": [
      "2.0\n"
     ]
    }
   ],
   "source": [
    "karekok(4)"
   ]
  },
  {
   "cell_type": "code",
   "execution_count": 14,
   "metadata": {},
   "outputs": [
    {
     "name": "stdout",
     "output_type": "stream",
     "text": [
      "yanlış formatta veri girdiniz \n",
      "yanlıs veri\n"
     ]
    }
   ],
   "source": [
    "karekok(\"yanlıs veri\")"
   ]
  },
  {
   "cell_type": "markdown",
   "metadata": {},
   "source": [
    "Gördüğünüz üzere beklenen hata mesajı farklı bir foormatta ayıklanmış oldu. except ten sonra yazılan kod aktif hale geldi bu durumda kodumuz hata versede durumu bu şekilde önleyebiliriz."
   ]
  },
  {
   "cell_type": "code",
   "execution_count": null,
   "metadata": {},
   "outputs": [],
   "source": []
  }
 ],
 "metadata": {
  "kernelspec": {
   "display_name": "Python 3",
   "language": "python",
   "name": "python3"
  },
  "language_info": {
   "codemirror_mode": {
    "name": "ipython",
    "version": 3
   },
   "file_extension": ".py",
   "mimetype": "text/x-python",
   "name": "python",
   "nbconvert_exporter": "python",
   "pygments_lexer": "ipython3",
   "version": "3.8.5"
  }
 },
 "nbformat": 4,
 "nbformat_minor": 4
}
