{
 "cells": [
  {
   "cell_type": "markdown",
   "metadata": {},
   "source": [
    "# Python ile Veri Okuma:\n",
    "\n",
    "Mert Kaan Cukadar : mertkaacukadar@ieee.org\n",
    "\n",
    "Metin dosyaları <b> .txt </b> uzantısına sahip düz metin formatında olan dosyalaradır. Python da <b> open() </b> fonkisyonu ile kodunuz ile dosya arasındaki bağlantı sağlanır. Bu durumda bu dediğimizi örneklendirmek gerekir ise..."
   ]
  },
  {
   "cell_type": "code",
   "execution_count": 5,
   "metadata": {},
   "outputs": [],
   "source": [
    "okuma = open('okuma.txt' , mode = 'r')"
   ]
  },
  {
   "cell_type": "markdown",
   "metadata": {},
   "source": [
    "Yukarıda yatığımız örneklendirme şu an aynı path de bulunan okuma.txt dosyasındn okuma yapmaktadır. open fonksiyonu içerisninde bulunan <b> 'r' </b>  stringi (read) okumayı temsil etmektedir. Fonkiyonun içerisine eğer <b> 'w' </b>  kullanırsak dosyaya veri yazacağımızı belirtmiş oluruz."
   ]
  },
  {
   "cell_type": "markdown",
   "metadata": {},
   "source": [
    "Şimdi <b> open() </b> fonksiyonu ile bağlantıyı kurduk. Şimdi ise <b> .read </b> metodu ile veri okuyabiliriz ancak ardından kurduğumuz bağlantıyı koparmak için <b> .close() </b> metodunu kullanmlıyız. hemenceccik bi örneklendirelim elimize yapışmaz sonuçta.\n"
   ]
  },
  {
   "cell_type": "code",
   "execution_count": 6,
   "metadata": {},
   "outputs": [
    {
     "name": "stdout",
     "output_type": "stream",
     "text": [
      "Veriler başarı ile çekildi.\n"
     ]
    }
   ],
   "source": [
    "veri = okuma.read()\n",
    "okuma.close()\n",
    "print(veri)"
   ]
  },
  {
   "cell_type": "markdown",
   "metadata": {},
   "source": [
    "Şimdi open fonksiyonu ile bağlantı kurarken yazılan kod eğer aynı dizide bulunuyorsa dizinin tamamını yazmanız gerekebilir aklınızda bulunsun. Sonra efenem bu error veriyor demeyin :) eğer close metodunu kullanmak istemiyorsanız <b> with </b> fonksiyonunu kullanabilirsiniz."
   ]
  },
  {
   "cell_type": "code",
   "execution_count": 8,
   "metadata": {},
   "outputs": [
    {
     "name": "stdout",
     "output_type": "stream",
     "text": [
      "Veriler başarı ile çekildi.\n"
     ]
    }
   ],
   "source": [
    "with open('okuma.txt' , mode = 'r') as veriler:\n",
    "    print(veriler.read())"
   ]
  },
  {
   "cell_type": "markdown",
   "metadata": {},
   "source": [
    "<b>.readline()</b> metodunu inceleyiniz ayrıca. Okunan veri boyutları çok büyükse bu metod oldukça kullanışlı olacaktır."
   ]
  },
  {
   "cell_type": "markdown",
   "metadata": {},
   "source": [
    "## Numpy ile veri okuma :)\n",
    "Evet yine geldik veri okumaya ana numpy skillerimizi biraz daha geliştireceğiz. Bu pakette en çok kullanılan iki fonksiyon <b>loadtxt()</b> ve <b>genfromtxt()</b> fonksiyonlarıdır."
   ]
  },
  {
   "cell_type": "markdown",
   "metadata": {},
   "source": [
    "import numpy as np\n",
    "dosya  = 'Desktop/Python_Veri_Analizi/okuma.txt'\n",
    "veri = np.loadtxt(dosya , delimiter = \",\")\n",
    "print(veri)"
   ]
  },
  {
   "cell_type": "markdown",
   "metadata": {},
   "source": [
    "string olduğu ile ilgili bir sorun elde ettiğimizden dolayı bu probleden <b> .genfromtxt </b> "
   ]
  },
  {
   "cell_type": "code",
   "execution_count": 14,
   "metadata": {},
   "outputs": [
    {
     "name": "stdout",
     "output_type": "stream",
     "text": [
      "nan\n"
     ]
    }
   ],
   "source": [
    "import numpy as np\n",
    "dosya = 'okuma.txt'\n",
    "veri = np.genfromtxt(dosya , delimiter = \"\\t\")\n",
    "print(veri)"
   ]
  },
  {
   "cell_type": "markdown",
   "metadata": {},
   "source": [
    ".csv formatındaki dosyalar için ise <b> recfromcsv() </b> metodu aynı şekilde kullanılarbilir."
   ]
  },
  {
   "cell_type": "markdown",
   "metadata": {},
   "source": [
    "## Pandas Modülü ile Veri Okuma: "
   ]
  },
  {
   "cell_type": "markdown",
   "metadata": {},
   "source": [
    "https://gist.github.com/netj/8836201 "
   ]
  },
  {
   "cell_type": "markdown",
   "metadata": {},
   "source": [
    "data shitleri buradan aldım canlar :) pandas modülü kullanarak dosyaya erişimi sapladık ve tüm verileri çektik..."
   ]
  },
  {
   "cell_type": "code",
   "execution_count": 24,
   "metadata": {},
   "outputs": [
    {
     "name": "stdout",
     "output_type": "stream",
     "text": [
      "     sepal.length  sepal.width  petal.length  petal.width    variety\n",
      "0             5.1          3.5           1.4          0.2     Setosa\n",
      "1             4.9          3.0           1.4          0.2     Setosa\n",
      "2             4.7          3.2           1.3          0.2     Setosa\n",
      "3             4.6          3.1           1.5          0.2     Setosa\n",
      "4             5.0          3.6           1.4          0.2     Setosa\n",
      "..            ...          ...           ...          ...        ...\n",
      "145           6.7          3.0           5.2          2.3  Virginica\n",
      "146           6.3          2.5           5.0          1.9  Virginica\n",
      "147           6.5          3.0           5.2          2.0  Virginica\n",
      "148           6.2          3.4           5.4          2.3  Virginica\n",
      "149           5.9          3.0           5.1          1.8  Virginica\n",
      "\n",
      "[150 rows x 5 columns]\n"
     ]
    }
   ],
   "source": [
    "import pandas as pd\n",
    "dosya = 'iris.csv'\n",
    "veri = pd.read_csv(dosya)\n",
    "print(veri)"
   ]
  },
  {
   "cell_type": "markdown",
   "metadata": {},
   "source": [
    "Birde burda <b> .values </b> metodu kullanılarak veriler numpy dizilerine dönüştürülebilirler. "
   ]
  },
  {
   "cell_type": "code",
   "execution_count": 26,
   "metadata": {},
   "outputs": [],
   "source": [
    "# print(veri.values)"
   ]
  },
  {
   "cell_type": "code",
   "execution_count": 27,
   "metadata": {},
   "outputs": [
    {
     "name": "stdout",
     "output_type": "stream",
     "text": [
      "   sepal.length  sepal.width  petal.length  petal.width variety\n",
      "0           5.1          3.5           1.4          0.2  Setosa\n",
      "1           4.9          3.0           1.4          0.2  Setosa\n",
      "2           4.7          3.2           1.3          0.2  Setosa\n"
     ]
    }
   ],
   "source": [
    "dosya = 'iris.csv'\n",
    "veri = pd.read_csv(dosya, nrows = 3)\n",
    "print(veri)"
   ]
  },
  {
   "cell_type": "markdown",
   "metadata": {},
   "source": [
    "Yukarıda fonksiyonun içerisine yazmış olduğumuz argüman kaç stun almak istediğimiz ile ilgili bir argümandır. csv dosyaların bakarken kullanılabilecek daha bir sürü argüman bulunmaktadır ihtiyaç duydukça öğreneceksinizdir :)"
   ]
  },
  {
   "cell_type": "markdown",
   "metadata": {},
   "source": [
    "### İnternetten veri okuma :"
   ]
  },
  {
   "cell_type": "code",
   "execution_count": 29,
   "metadata": {},
   "outputs": [],
   "source": [
    "from urllib.request import urlretrieve\n",
    "import pandas as pd"
   ]
  },
  {
   "cell_type": "code",
   "execution_count": 32,
   "metadata": {},
   "outputs": [
    {
     "name": "stdout",
     "output_type": "stream",
     "text": [
      "     5.1  3.5  1.4  0.2     Iris-setosa\n",
      "0    4.9  3.0  1.4  0.2     Iris-setosa\n",
      "1    4.7  3.2  1.3  0.2     Iris-setosa\n",
      "2    4.6  3.1  1.5  0.2     Iris-setosa\n",
      "3    5.0  3.6  1.4  0.2     Iris-setosa\n",
      "4    5.4  3.9  1.7  0.4     Iris-setosa\n",
      "..   ...  ...  ...  ...             ...\n",
      "144  6.7  3.0  5.2  2.3  Iris-virginica\n",
      "145  6.3  2.5  5.0  1.9  Iris-virginica\n",
      "146  6.5  3.0  5.2  2.0  Iris-virginica\n",
      "147  6.2  3.4  5.4  2.3  Iris-virginica\n",
      "148  5.9  3.0  5.1  1.8  Iris-virginica\n",
      "\n",
      "[149 rows x 5 columns]\n"
     ]
    }
   ],
   "source": [
    "link = 'https://archive.ics.uci.edu/ml/machine-learning-databases/iris/iris.data'\n",
    "\n",
    "urlretrieve(link , 'iris_1.csv') # bu linlte yer alan dosyayı iris_1 olarak kaydet diyoruz.\n",
    "iris_1 = pd.read_csv('iris_1.csv', sep = ',')\n",
    "\n",
    "print(iris_1)"
   ]
  }
 ],
 "metadata": {
  "kernelspec": {
   "display_name": "Python 3",
   "language": "python",
   "name": "python3"
  },
  "language_info": {
   "codemirror_mode": {
    "name": "ipython",
    "version": 3
   },
   "file_extension": ".py",
   "mimetype": "text/x-python",
   "name": "python",
   "nbconvert_exporter": "python",
   "pygments_lexer": "ipython3",
   "version": "3.8.5"
  }
 },
 "nbformat": 4,
 "nbformat_minor": 4
}
