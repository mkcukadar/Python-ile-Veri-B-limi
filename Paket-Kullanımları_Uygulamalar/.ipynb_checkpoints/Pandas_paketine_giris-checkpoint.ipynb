{
 "cells": [
  {
   "cell_type": "markdown",
   "metadata": {},
   "source": [
    "# Pandas Paketine Giris\n",
    "## Pandas paketi: \n",
    "Numpy paketinde tek veri tipi listelenebilirken pandas paketi ile bu veriler farklı yapılardada bir arada tutulabiliyorlar. Pandas veri analizinde sık kullanulan bir pakettir. farklı veri yapılarını içerisnde bulundurması büyük bir avantaj sağlamaktadır. \n",
    "\n",
    "Mert Kaan Çukadar : mertkaacukadar@ieee.org\n",
    "\n",
    "Şimdi pandas paketinde bi seri oluşturalım..."
   ]
  },
  {
   "cell_type": "code",
   "execution_count": 2,
   "metadata": {},
   "outputs": [
    {
     "ename": "ModuleNotFoundError",
     "evalue": "No module named 'pandas'",
     "output_type": "error",
     "traceback": [
      "\u001b[0;31m---------------------------------------------------------------------------\u001b[0m",
      "\u001b[0;31mModuleNotFoundError\u001b[0m                       Traceback (most recent call last)",
      "\u001b[0;32m<ipython-input-2-81646aceaea8>\u001b[0m in \u001b[0;36m<module>\u001b[0;34m\u001b[0m\n\u001b[0;32m----> 1\u001b[0;31m \u001b[0;32mimport\u001b[0m \u001b[0mpandas\u001b[0m \u001b[0;32mas\u001b[0m \u001b[0mpn\u001b[0m\u001b[0;34m\u001b[0m\u001b[0;34m\u001b[0m\u001b[0m\n\u001b[0m",
      "\u001b[0;31mModuleNotFoundError\u001b[0m: No module named 'pandas'"
     ]
    }
   ],
   "source": [
    "import pandas as pn\n"
   ]
  },
  {
   "cell_type": "markdown",
   "metadata": {},
   "source": [
    "Eğer yukarıdaki gibi bir sorun ile karşılaştıysanız paketi yüklemeniz gerekmektedir... Bunun için <b> pip3 install pandas </b> yazsını terminala yazabilirsiniz."
   ]
  },
  {
   "cell_type": "code",
   "execution_count": 6,
   "metadata": {},
   "outputs": [
    {
     "name": "stdout",
     "output_type": "stream",
     "text": [
      "0     1\n",
      "1    22\n",
      "2    45\n",
      "3    89\n",
      "4    25\n",
      "dtype: int64\n"
     ]
    }
   ],
   "source": [
    "import pandas as pd\n",
    "dizi = pd.Series([1,22,45,89,25])\n",
    "print(dizi)"
   ]
  },
  {
   "cell_type": "code",
   "execution_count": 7,
   "metadata": {},
   "outputs": [
    {
     "name": "stdout",
     "output_type": "stream",
     "text": [
      "a     1\n",
      "g     2\n",
      "d     5\n",
      "f     8\n",
      "d    99\n",
      "l     7\n",
      "dtype: int64\n"
     ]
    }
   ],
   "source": [
    "#yanarındaki index verilerinde değişiklik yapmak istersek;\n",
    "dizi_2 = pd.Series([1,2,5,8,99,7], index = ['a','g','d','f','d','l'])\n",
    "print(dizi_2)"
   ]
  },
  {
   "cell_type": "markdown",
   "metadata": {},
   "source": [
    "Pandas veri paketinda <b> Data Frame </b> adı altında adlandırlan veri çerçeveleri bulunmaktadır. Bunları kullanarak veri göreslleştirme işlemleriniz daha kolay bir hale gelecektir."
   ]
  },
  {
   "cell_type": "markdown",
   "metadata": {},
   "source": [
    "[Python ile veri bilimi Dr.İlker ARSLAN Pg:144 teki veriler kullanılmıştır.]"
   ]
  },
  {
   "cell_type": "code",
   "execution_count": 8,
   "metadata": {},
   "outputs": [],
   "source": [
    "iris_dict = {\n",
    "    \"Sepal_lenght\" : [5.1 , 4.9, 4.7, 4.6, 5.0, 6.7, 6.3, 6.5, 6.2, 5.9],\n",
    "    \"sepal_width\" : [3.5 , 3.0, 3.2, 3.1, 3.6, 3.0, 2.5, 3.0, 3.4, 3.0],\n",
    "    \"Petal_lenght\" : [1.4, 1.4, 1.3, 1.5, 1.4, 5.2, 5.0, 5.2, 5.4, 5.1],\n",
    "    \"Petal_width\" : [0.2, 0.2, 0.2, 0.2, 0.2, 2.3, 1.9, 2.0, 2.3, 1.8],\n",
    "    \"species\" : [\"setosa\", \"setosa\", \"setosa\" , \"setosa\", \"setosa\", \"virginica\", \"virginica\", \n",
    "                \"virginica\" ,\"virginica\" ,\"virginica\" ]\n",
    "}"
   ]
  },
  {
   "cell_type": "code",
   "execution_count": 9,
   "metadata": {},
   "outputs": [
    {
     "name": "stdout",
     "output_type": "stream",
     "text": [
      "{'Sepal_lenght': [5.1, 4.9, 4.7, 4.6, 5.0, 6.7, 6.3, 6.5, 6.2, 5.9], 'sepal_width': [3.5, 3.0, 3.2, 3.1, 3.6, 3.0, 2.5, 3.0, 3.4, 3.0], 'Petal_lenght': [1.4, 1.4, 1.3, 1.5, 1.4, 5.2, 5.0, 5.2, 5.4, 5.1], 'Petal_width': [0.2, 0.2, 0.2, 0.2, 0.2, 2.3, 1.9, 2.0, 2.3, 1.8], 'species': ['setosa', 'setosa', 'setosa', 'setosa', 'setosa', 'virginica', 'virginica', 'virginica', 'virginica', 'virginica']}\n"
     ]
    }
   ],
   "source": [
    "print(iris_dict)"
   ]
  },
  {
   "cell_type": "markdown",
   "metadata": {},
   "source": [
    "Yukarıda gödüğünüz gibi elimizdeki sözlük yapısı pek bir şey ifade etmemekte şimdi pandas paketindeki <b> Data Frame </b> in ne işe yaradığını daha iyi anlayabiliriz. "
   ]
  },
  {
   "cell_type": "code",
   "execution_count": 10,
   "metadata": {},
   "outputs": [],
   "source": [
    "cerceve = pd.DataFrame(iris_dict)"
   ]
  },
  {
   "cell_type": "code",
   "execution_count": 11,
   "metadata": {},
   "outputs": [
    {
     "name": "stdout",
     "output_type": "stream",
     "text": [
      "   Sepal_lenght  sepal_width  Petal_lenght  Petal_width    species\n",
      "0           5.1          3.5           1.4          0.2     setosa\n",
      "1           4.9          3.0           1.4          0.2     setosa\n",
      "2           4.7          3.2           1.3          0.2     setosa\n",
      "3           4.6          3.1           1.5          0.2     setosa\n",
      "4           5.0          3.6           1.4          0.2     setosa\n",
      "5           6.7          3.0           5.2          2.3  virginica\n",
      "6           6.3          2.5           5.0          1.9  virginica\n",
      "7           6.5          3.0           5.2          2.0  virginica\n",
      "8           6.2          3.4           5.4          2.3  virginica\n",
      "9           5.9          3.0           5.1          1.8  virginica\n"
     ]
    }
   ],
   "source": [
    "print(cerceve)"
   ]
  },
  {
   "cell_type": "code",
   "execution_count": 37,
   "metadata": {},
   "outputs": [
    {
     "name": "stdout",
     "output_type": "stream",
     "text": [
      "[0]\n",
      "[0, 1]\n",
      "[0, 1, 8]\n",
      "[0, 1, 8, 27]\n",
      "[0, 1, 8, 27, 64]\n",
      "[0, 1, 8, 27, 64, 125]\n",
      "[0, 1, 8, 27, 64, 125, 216]\n",
      "[0, 1, 8, 27, 64, 125, 216, 343]\n",
      "[0, 1, 8, 27, 64, 125, 216, 343, 512]\n",
      "[0, 1, 8, 27, 64, 125, 216, 343, 512, 729]\n"
     ]
    }
   ],
   "source": [
    "z = []\n",
    "for i in range(0,10):\n",
    "    i = i**3\n",
    "    z.append(i)\n",
    "    print(z)\n"
   ]
  },
  {
   "cell_type": "code",
   "execution_count": 38,
   "metadata": {},
   "outputs": [
    {
     "name": "stdout",
     "output_type": "stream",
     "text": [
      "   Sepal_lenght  sepal_width  Petal_lenght  Petal_width    species  \\\n",
      "0           5.1          3.5           1.4          0.2     setosa   \n",
      "1           4.9          3.0           1.4          0.2     setosa   \n",
      "2           4.7          3.2           1.3          0.2     setosa   \n",
      "3           4.6          3.1           1.5          0.2     setosa   \n",
      "4           5.0          3.6           1.4          0.2     setosa   \n",
      "5           6.7          3.0           5.2          2.3  virginica   \n",
      "6           6.3          2.5           5.0          1.9  virginica   \n",
      "7           6.5          3.0           5.2          2.0  virginica   \n",
      "8           6.2          3.4           5.4          2.3  virginica   \n",
      "9           5.9          3.0           5.1          1.8  virginica   \n",
      "\n",
      "   Observation_count  \n",
      "0                  0  \n",
      "1                  1  \n",
      "2                  8  \n",
      "3                 27  \n",
      "4                 64  \n",
      "5                125  \n",
      "6                216  \n",
      "7                343  \n",
      "8                512  \n",
      "9                729  \n"
     ]
    }
   ],
   "source": [
    "\n",
    "cerceve[\"Observation_count\"] = z\n",
    "print(cerceve)"
   ]
  },
  {
   "cell_type": "markdown",
   "metadata": {},
   "source": [
    "Şimdi listede değeri 3.1 den küçük olan sepal_width (Çanak yaprakları genişliği) leri seçelim..."
   ]
  },
  {
   "cell_type": "code",
   "execution_count": 44,
   "metadata": {},
   "outputs": [
    {
     "data": {
      "text/html": [
       "<div>\n",
       "<style scoped>\n",
       "    .dataframe tbody tr th:only-of-type {\n",
       "        vertical-align: middle;\n",
       "    }\n",
       "\n",
       "    .dataframe tbody tr th {\n",
       "        vertical-align: top;\n",
       "    }\n",
       "\n",
       "    .dataframe thead th {\n",
       "        text-align: right;\n",
       "    }\n",
       "</style>\n",
       "<table border=\"1\" class=\"dataframe\">\n",
       "  <thead>\n",
       "    <tr style=\"text-align: right;\">\n",
       "      <th></th>\n",
       "      <th>Sepal_lenght</th>\n",
       "      <th>sepal_width</th>\n",
       "      <th>Petal_lenght</th>\n",
       "      <th>Petal_width</th>\n",
       "      <th>species</th>\n",
       "      <th>Observation_count</th>\n",
       "    </tr>\n",
       "  </thead>\n",
       "  <tbody>\n",
       "    <tr>\n",
       "      <th>1</th>\n",
       "      <td>4.9</td>\n",
       "      <td>3.0</td>\n",
       "      <td>1.4</td>\n",
       "      <td>0.2</td>\n",
       "      <td>setosa</td>\n",
       "      <td>1</td>\n",
       "    </tr>\n",
       "    <tr>\n",
       "      <th>5</th>\n",
       "      <td>6.7</td>\n",
       "      <td>3.0</td>\n",
       "      <td>5.2</td>\n",
       "      <td>2.3</td>\n",
       "      <td>virginica</td>\n",
       "      <td>125</td>\n",
       "    </tr>\n",
       "    <tr>\n",
       "      <th>6</th>\n",
       "      <td>6.3</td>\n",
       "      <td>2.5</td>\n",
       "      <td>5.0</td>\n",
       "      <td>1.9</td>\n",
       "      <td>virginica</td>\n",
       "      <td>216</td>\n",
       "    </tr>\n",
       "    <tr>\n",
       "      <th>7</th>\n",
       "      <td>6.5</td>\n",
       "      <td>3.0</td>\n",
       "      <td>5.2</td>\n",
       "      <td>2.0</td>\n",
       "      <td>virginica</td>\n",
       "      <td>343</td>\n",
       "    </tr>\n",
       "    <tr>\n",
       "      <th>9</th>\n",
       "      <td>5.9</td>\n",
       "      <td>3.0</td>\n",
       "      <td>5.1</td>\n",
       "      <td>1.8</td>\n",
       "      <td>virginica</td>\n",
       "      <td>729</td>\n",
       "    </tr>\n",
       "  </tbody>\n",
       "</table>\n",
       "</div>"
      ],
      "text/plain": [
       "   Sepal_lenght  sepal_width  Petal_lenght  Petal_width    species  \\\n",
       "1           4.9          3.0           1.4          0.2     setosa   \n",
       "5           6.7          3.0           5.2          2.3  virginica   \n",
       "6           6.3          2.5           5.0          1.9  virginica   \n",
       "7           6.5          3.0           5.2          2.0  virginica   \n",
       "9           5.9          3.0           5.1          1.8  virginica   \n",
       "\n",
       "   Observation_count  \n",
       "1                  1  \n",
       "5                125  \n",
       "6                216  \n",
       "7                343  \n",
       "9                729  "
      ]
     },
     "execution_count": 44,
     "metadata": {},
     "output_type": "execute_result"
    }
   ],
   "source": [
    "cerceve[cerceve.sepal_width < 3.1]"
   ]
  },
  {
   "cell_type": "markdown",
   "metadata": {},
   "source": [
    "Şimdiyse <b> Setosa </b> türüne ait satırları filtreletelim hatta bir şart daha koyalım 3.1 den küçük taç yaprak genişliğine sahip olan stünları çekelim..."
   ]
  },
  {
   "cell_type": "code",
   "execution_count": 48,
   "metadata": {},
   "outputs": [
    {
     "name": "stdout",
     "output_type": "stream",
     "text": [
      "0     True\n",
      "1     True\n",
      "2     True\n",
      "3     True\n",
      "4     True\n",
      "5    False\n",
      "6    False\n",
      "7    False\n",
      "8    False\n",
      "9    False\n",
      "Name: species, dtype: bool\n"
     ]
    }
   ],
   "source": [
    "kosul_1 = cerceve[\"species\"] == \"setosa\"\n",
    "type(kosul_1)\n",
    "print(kosul_1)\n"
   ]
  },
  {
   "cell_type": "markdown",
   "metadata": {},
   "source": [
    "Tamamdır şimdi gerçek iris veri setini insdirelim bunun için seaborn paketini indirmeniz gerkiyor."
   ]
  },
  {
   "cell_type": "code",
   "execution_count": 50,
   "metadata": {},
   "outputs": [
    {
     "name": "stdout",
     "output_type": "stream",
     "text": [
      "     sepal_length  sepal_width  petal_length  petal_width    species\n",
      "0             5.1          3.5           1.4          0.2     setosa\n",
      "1             4.9          3.0           1.4          0.2     setosa\n",
      "2             4.7          3.2           1.3          0.2     setosa\n",
      "3             4.6          3.1           1.5          0.2     setosa\n",
      "4             5.0          3.6           1.4          0.2     setosa\n",
      "..            ...          ...           ...          ...        ...\n",
      "145           6.7          3.0           5.2          2.3  virginica\n",
      "146           6.3          2.5           5.0          1.9  virginica\n",
      "147           6.5          3.0           5.2          2.0  virginica\n",
      "148           6.2          3.4           5.4          2.3  virginica\n",
      "149           5.9          3.0           5.1          1.8  virginica\n",
      "\n",
      "[150 rows x 5 columns]\n"
     ]
    }
   ],
   "source": [
    "import seaborn as sns\n",
    "iris = sns.load_dataset('iris')\n",
    "print(iris)"
   ]
  },
  {
   "cell_type": "markdown",
   "metadata": {},
   "source": [
    "Yukarıda gördüğünüz veri seti gerçek iris veri setidir. 5 kolon 150 satırdan oluşmaktadır. Artık yapıtğımız çalışmaları bu veri seti üzerinden gerçekleştirelim. 9 Satır okumak kolaydı yabi 150 satırlık verilerin analizinde hangi metodları kullanmamız gerkiyor peki..."
   ]
  },
  {
   "cell_type": "markdown",
   "metadata": {},
   "source": [
    "<b> .Describe() </b> metodunu kullanarak bir sütuna ait olan özellikleri inceleyebiliriz."
   ]
  },
  {
   "cell_type": "code",
   "execution_count": 51,
   "metadata": {},
   "outputs": [
    {
     "data": {
      "text/plain": [
       "count           150\n",
       "unique            3\n",
       "top       virginica\n",
       "freq             50\n",
       "Name: species, dtype: object"
      ]
     },
     "execution_count": 51,
     "metadata": {},
     "output_type": "execute_result"
    }
   ],
   "source": [
    "iris[\"species\"].describe()"
   ]
  },
  {
   "cell_type": "markdown",
   "metadata": {},
   "source": [
    "top kolonda en çok görülen veri tipinin  virginica olduğunu göstermektedir.\n",
    "\n",
    "freq ise en sık görülen türe ait kaç gözlem olduğunu.\n",
    "\n",
    "unique kaç tür olduğunu.\n",
    "\n",
    "count ise kaç satır olduğunu bizlere açıkça göstermektedir."
   ]
  },
  {
   "cell_type": "code",
   "execution_count": 53,
   "metadata": {},
   "outputs": [
    {
     "data": {
      "text/plain": [
       "array(['setosa', 'versicolor', 'virginica'], dtype=object)"
      ]
     },
     "execution_count": 53,
     "metadata": {},
     "output_type": "execute_result"
    }
   ],
   "source": [
    "iris[\"species\"].unique()"
   ]
  },
  {
   "cell_type": "markdown",
   "metadata": {},
   "source": [
    "İşte bu üç türde inceleme yapacağız. Şimdide cout metoduna bakalım hızlıca."
   ]
  },
  {
   "cell_type": "code",
   "execution_count": 55,
   "metadata": {},
   "outputs": [
    {
     "data": {
      "text/plain": [
       "150"
      ]
     },
     "execution_count": 55,
     "metadata": {},
     "output_type": "execute_result"
    }
   ],
   "source": [
    "iris['sepal_length'].count()"
   ]
  },
  {
   "cell_type": "markdown",
   "metadata": {},
   "source": [
    "Pandas paketinde daha bir çok metod ve fonkisyonlar bulunmaktadır ileride ihtiyacımı oldukça bu metodları araştırıp öğreneceğiz. :)"
   ]
  }
 ],
 "metadata": {
  "kernelspec": {
   "display_name": "Python 3",
   "language": "python",
   "name": "python3"
  },
  "language_info": {
   "codemirror_mode": {
    "name": "ipython",
    "version": 3
   },
   "file_extension": ".py",
   "mimetype": "text/x-python",
   "name": "python",
   "nbconvert_exporter": "python",
   "pygments_lexer": "ipython3",
   "version": "3.8.5"
  }
 },
 "nbformat": 4,
 "nbformat_minor": 4
}
