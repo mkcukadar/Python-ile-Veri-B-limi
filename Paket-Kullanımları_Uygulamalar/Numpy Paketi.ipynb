{
 "cells": [
  {
   "cell_type": "markdown",
   "metadata": {},
   "source": [
    "# Numpy Paketi: \n",
    "\n",
    "Mert Kaan Cukadar: mertkaacukadar@ieee.com\n",
    "\n",
    "Listeler yapısal olarak kendi aralarında matematiksel işlem yapmak için uygun değillerdir. Matlabdan ya da octave dan alışık olunan gibi matris gib davranmaz listeler. Bunun için modüllere ihtiyaç duyarız. <b>Numpy</b> modülü listerde matematiksel işlmeler yapılabilmesi için geliştirilmiş bir pakettir. \n"
   ]
  },
  {
   "cell_type": "markdown",
   "metadata": {},
   "source": [
    "## Numpy arrays (Numpy dizileri):\n",
    "her biri aynı veri yapısında bulunacak şekilde diziler hazırlanır. Örnek vermek gerikrse sayı verileri eğer strig bir veri bulunan listenin içerisinde ise strig veri tipi olarak çevirilir."
   ]
  },
  {
   "cell_type": "code",
   "execution_count": 3,
   "metadata": {},
   "outputs": [
    {
     "name": "stdout",
     "output_type": "stream",
     "text": [
      "<class 'numpy.str_'>\n"
     ]
    }
   ],
   "source": [
    "import numpy as np\n",
    "variables = np.array([\"Rover\", 5 , 8])\n",
    "print(type(variables[1]))\n"
   ]
  },
  {
   "cell_type": "markdown",
   "metadata": {},
   "source": [
    "Gördüğünüz üzere array metodunu kullanarak aynı veri tipine sahip liste oluşturduk. Şimdi listerler arasında matematiksel işlem yapma ortamını oluşturabiliriz. Array metodunu kullanalım..."
   ]
  },
  {
   "cell_type": "code",
   "execution_count": 9,
   "metadata": {},
   "outputs": [
    {
     "name": "stdout",
     "output_type": "stream",
     "text": [
      "[2.5 2.  4.  4.  5. ]\n"
     ]
    }
   ],
   "source": [
    "veri_1 = [1 , 2 , 3 ,4 ,5,]\n",
    "veri_2 = [4 , 2, 5, 4 ,5]\n",
    "veri_np = np.array(veri_1)\n",
    "veri_np1 = np.array(veri_2)\n",
    "\n",
    "ortalama = (veri_np + veri_np1) / 2\n",
    "print(ortalama)\n"
   ]
  },
  {
   "cell_type": "code",
   "execution_count": 7,
   "metadata": {},
   "outputs": [
    {
     "data": {
      "text/plain": [
       "array([ 4,  4, 15, 16, 25])"
      ]
     },
     "execution_count": 7,
     "metadata": {},
     "output_type": "execute_result"
    }
   ],
   "source": [
    "# ya da bu iki listeyi birbirleriyle çarpabiliriz\n",
    "veri_np1*veri_np"
   ]
  },
  {
   "cell_type": "markdown",
   "metadata": {},
   "source": [
    "Konu hakkında dikkat edilmesi gereken şey <b> bu veri gruplarının uzulukları işlem yapabilmeniz için aynı olmalıdır... <b/>"
   ]
  },
  {
   "cell_type": "code",
   "execution_count": 11,
   "metadata": {},
   "outputs": [
    {
     "data": {
      "text/plain": [
       "array([ True,  True,  True, False, False])"
      ]
     },
     "execution_count": 11,
     "metadata": {},
     "output_type": "execute_result"
    }
   ],
   "source": [
    "veri_np < 4"
   ]
  },
  {
   "cell_type": "code",
   "execution_count": 12,
   "metadata": {},
   "outputs": [
    {
     "data": {
      "text/plain": [
       "array([1, 2, 3])"
      ]
     },
     "execution_count": 12,
     "metadata": {},
     "output_type": "execute_result"
    }
   ],
   "source": [
    "veri_np[veri_np < 4]"
   ]
  },
  {
   "cell_type": "markdown",
   "metadata": {},
   "source": [
    "koşulu sağlayan verileri çekmenin bir yolu yukarıda gösterilmiştir. Şimdi sayı dizileri oluşturmak için kullanılan metolara bakalım. "
   ]
  },
  {
   "cell_type": "code",
   "execution_count": 13,
   "metadata": {},
   "outputs": [
    {
     "data": {
      "text/plain": [
       "array([0, 2, 4, 6, 8])"
      ]
     },
     "execution_count": 13,
     "metadata": {},
     "output_type": "execute_result"
    }
   ],
   "source": [
    "np.arange(0,10,2)"
   ]
  },
  {
   "cell_type": "code",
   "execution_count": 14,
   "metadata": {},
   "outputs": [
    {
     "data": {
      "text/plain": [
       "array([ 1.        ,  1.47368421,  1.94736842,  2.42105263,  2.89473684,\n",
       "        3.36842105,  3.84210526,  4.31578947,  4.78947368,  5.26315789,\n",
       "        5.73684211,  6.21052632,  6.68421053,  7.15789474,  7.63157895,\n",
       "        8.10526316,  8.57894737,  9.05263158,  9.52631579, 10.        ])"
      ]
     },
     "execution_count": 14,
     "metadata": {},
     "output_type": "execute_result"
    }
   ],
   "source": [
    "np.linspace(1,10,20)"
   ]
  },
  {
   "cell_type": "markdown",
   "metadata": {},
   "source": [
    "kullandıımız <b> arange ve linspace </b> metodları sıralı dizi oluşturmamızı sağlar arange analşılır ancak linspace şu şekilde çalışmaktadır. iki sayı arasında dizi elde etmek istiyorsanız bu dileri kaçtane olacağını söyleyerek çağırırsınız."
   ]
  },
  {
   "cell_type": "code",
   "execution_count": 18,
   "metadata": {},
   "outputs": [
    {
     "data": {
      "text/plain": [
       "array([1.00000000e+00, 1.26485522e+00, 1.59985872e+00, 2.02358965e+00,\n",
       "       2.55954792e+00, 3.23745754e+00, 4.09491506e+00, 5.17947468e+00,\n",
       "       6.55128557e+00, 8.28642773e+00, 1.04811313e+01, 1.32571137e+01,\n",
       "       1.67683294e+01, 2.12095089e+01, 2.68269580e+01, 3.39322177e+01,\n",
       "       4.29193426e+01, 5.42867544e+01, 6.86648845e+01, 8.68511374e+01,\n",
       "       1.09854114e+02, 1.38949549e+02, 1.75751062e+02, 2.22299648e+02,\n",
       "       2.81176870e+02, 3.55648031e+02, 4.49843267e+02, 5.68986603e+02,\n",
       "       7.19685673e+02, 9.10298178e+02, 1.15139540e+03, 1.45634848e+03,\n",
       "       1.84206997e+03, 2.32995181e+03, 2.94705170e+03, 3.72759372e+03,\n",
       "       4.71486636e+03, 5.96362332e+03, 7.54312006e+03, 9.54095476e+03,\n",
       "       1.20679264e+04, 1.52641797e+04, 1.93069773e+04, 2.44205309e+04,\n",
       "       3.08884360e+04, 3.90693994e+04, 4.94171336e+04, 6.25055193e+04,\n",
       "       7.90604321e+04, 1.00000000e+05])"
      ]
     },
     "execution_count": 18,
     "metadata": {},
     "output_type": "execute_result"
    }
   ],
   "source": [
    "np.logspace(0 , 5) # verilerin logaritmasını alarak çıktı verir"
   ]
  },
  {
   "cell_type": "markdown",
   "metadata": {},
   "source": [
    "## Boyutlu veri nesneleri"
   ]
  },
  {
   "cell_type": "code",
   "execution_count": 21,
   "metadata": {},
   "outputs": [
    {
     "name": "stdout",
     "output_type": "stream",
     "text": [
      "[[ 1  2  3  4]\n",
      " [ 1  2  3  4]\n",
      " [ 1 11  1  1]]\n"
     ]
    }
   ],
   "source": [
    "dizi = np.array([[1, 2 , 3 ,4],[1,2,3,4],[1, 11,1,1]])\n",
    "print(dizi)"
   ]
  },
  {
   "cell_type": "markdown",
   "metadata": {},
   "source": [
    "eğer daha önce matrislerle programa yaptısanız matrislerden veriler çağırıırken enine ve boyuna olmak üzere ayrı ayrı belirtilir. Örneklendirmek gerekirse..."
   ]
  },
  {
   "cell_type": "code",
   "execution_count": 24,
   "metadata": {},
   "outputs": [
    {
     "data": {
      "text/plain": [
       "array([[1, 2],\n",
       "       [1, 2]])"
      ]
     },
     "execution_count": 24,
     "metadata": {},
     "output_type": "execute_result"
    }
   ],
   "source": [
    "dizi[0:2,0:2]# ilk iki satırı ve ilk iki stunun verilerini çekelim..."
   ]
  },
  {
   "cell_type": "markdown",
   "metadata": {},
   "source": [
    "Veri grubunun boyutlarını öğrenmek için <b> .shape </b> metodu kullanılır. "
   ]
  },
  {
   "cell_type": "code",
   "execution_count": 26,
   "metadata": {},
   "outputs": [
    {
     "data": {
      "text/plain": [
       "(3, 4)"
      ]
     },
     "execution_count": 26,
     "metadata": {},
     "output_type": "execute_result"
    }
   ],
   "source": [
    "dizi.shape"
   ]
  },
  {
   "cell_type": "code",
   "execution_count": 27,
   "metadata": {},
   "outputs": [],
   "source": [
    "# şimdi 3 boyulu bir dizi üretelim\n",
    "dizi_3 = np.array([[[1,1,1,1],\n",
    "                    [1,1,1,1],[1,1,1,1]],\n",
    "                   [[2,2,2,2],[2,2,2,2],[2,2,2,2]]])"
   ]
  },
  {
   "cell_type": "code",
   "execution_count": 28,
   "metadata": {},
   "outputs": [
    {
     "data": {
      "text/plain": [
       "array([[[1, 1, 1, 1],\n",
       "        [1, 1, 1, 1],\n",
       "        [1, 1, 1, 1]],\n",
       "\n",
       "       [[2, 2, 2, 2],\n",
       "        [2, 2, 2, 2],\n",
       "        [2, 2, 2, 2]]])"
      ]
     },
     "execution_count": 28,
     "metadata": {},
     "output_type": "execute_result"
    }
   ],
   "source": [
    "dizi_3 # 3 boyutlu bir dizi tanımladık...\n"
   ]
  },
  {
   "cell_type": "code",
   "execution_count": 29,
   "metadata": {},
   "outputs": [
    {
     "data": {
      "text/plain": [
       "(2, 3, 4)"
      ]
     },
     "execution_count": 29,
     "metadata": {},
     "output_type": "execute_result"
    }
   ],
   "source": [
    "dizi_3.shape"
   ]
  },
  {
   "cell_type": "markdown",
   "metadata": {},
   "source": [
    "yukarıda .shape metodunu çağırdığımızda tüksekliği iki olan 3 e 4 lük birer dizi oluşturduğumuzu okumuş oluyoruz. Ek olarak şunu söyleyebilirim elimizdeki bir dizinin transpose unu almak için <b> .T </b> metodu kullanılır. Şu şekilde ifade edilebilir."
   ]
  },
  {
   "cell_type": "code",
   "execution_count": 30,
   "metadata": {},
   "outputs": [
    {
     "data": {
      "text/plain": [
       "array([[ 1,  1,  1],\n",
       "       [ 2,  2, 11],\n",
       "       [ 3,  3,  1],\n",
       "       [ 4,  4,  1]])"
      ]
     },
     "execution_count": 30,
     "metadata": {},
     "output_type": "execute_result"
    }
   ],
   "source": [
    "dizi.T"
   ]
  },
  {
   "cell_type": "code",
   "execution_count": 31,
   "metadata": {},
   "outputs": [
    {
     "data": {
      "text/plain": [
       "array([[ 1,  2,  3,  4],\n",
       "       [ 1,  2,  3,  4],\n",
       "       [ 1, 11,  1,  1]])"
      ]
     },
     "execution_count": 31,
     "metadata": {},
     "output_type": "execute_result"
    }
   ],
   "source": [
    "dizi"
   ]
  },
  {
   "cell_type": "markdown",
   "metadata": {},
   "source": [
    "Aralarındaki döüşümü dikkatli bakarsanız görebilirsiniz. :)"
   ]
  },
  {
   "cell_type": "markdown",
   "metadata": {},
   "source": [
    "## Örnekler:\n",
    "Şimdi dilerseniz bir kaç örnek ile bu paketteki metodları hep birlikte kullanalım. ilk olarak matris çarpımlarını normal çarpımlarını inceleyelim... örneklendirmek için ikişer tane Numpy dizisi ele alalım;\n"
   ]
  },
  {
   "cell_type": "code",
   "execution_count": 37,
   "metadata": {},
   "outputs": [
    {
     "name": "stdout",
     "output_type": "stream",
     "text": [
      "[ 3  8 10]\n"
     ]
    }
   ],
   "source": [
    "a_array = np.array([1,2,2])\n",
    "b_array = np.array([3,4,5])\n",
    "\n",
    "print(a_array * b_array)"
   ]
  },
  {
   "cell_type": "markdown",
   "metadata": {},
   "source": [
    "Örnekte göreceğiniz üzere burada iki vektörün product rule' a göre çarpımını görebilirsiniz.\n",
    "$$ a_a \\times b_a \\times \\cos\\theta $$"
   ]
  },
  {
   "cell_type": "markdown",
   "metadata": {},
   "source": [
    "eğer bu iki diziyi birer matris olarak çarpmak isterseniz <b>np.matmul</b> operatörünü kullanınız. hepbirlikte deneyelim küçük bir hata yaparakta ek bir şey daha öğrenelim. "
   ]
  },
  {
   "cell_type": "code",
   "execution_count": 38,
   "metadata": {},
   "outputs": [
    {
     "data": {
      "text/plain": [
       "21"
      ]
     },
     "execution_count": 38,
     "metadata": {},
     "output_type": "execute_result"
    }
   ],
   "source": [
    "np.matmul(a_array , b_array) #hatalı"
   ]
  },
  {
   "cell_type": "code",
   "execution_count": 39,
   "metadata": {},
   "outputs": [],
   "source": [
    "bt_array = b_array.T"
   ]
  },
  {
   "cell_type": "code",
   "execution_count": 43,
   "metadata": {},
   "outputs": [
    {
     "data": {
      "text/plain": [
       "21"
      ]
     },
     "execution_count": 43,
     "metadata": {},
     "output_type": "execute_result"
    }
   ],
   "source": [
    "np.matmul(a_array,bt_array) # doğru "
   ]
  },
  {
   "cell_type": "markdown",
   "metadata": {},
   "source": [
    "Burada yapılan hata aslında aslında matematiksel bir hatadır 1 e 2 lik bir matris ile 1 e 2 lik bir matrisi normal koşullarda çarpamazsınız kullandığınız metod bunun önüne geçiyor ancak ikinci matrisi transpose ederseniz ve değerleri bu şekilde çarparsanız yani (1 e 2 lik bir matris ile 2 ye 1 lik bir matrisi çarparsanız) matematiksel olarakta doğru bir işlem gerçekleştirş olursunuz. "
   ]
  },
  {
   "cell_type": "code",
   "execution_count": 44,
   "metadata": {},
   "outputs": [
    {
     "data": {
      "text/plain": [
       "array([[ 1,  2,  3,  4],\n",
       "       [ 1,  2,  3,  4],\n",
       "       [ 1, 11,  1,  1]])"
      ]
     },
     "execution_count": 44,
     "metadata": {},
     "output_type": "execute_result"
    }
   ],
   "source": [
    "dizi "
   ]
  },
  {
   "cell_type": "markdown",
   "metadata": {},
   "source": [
    "Şimdi ise boyutlu listelerin içerisinde son olarak bi toplam fonksiyonu kullanalım. \n"
   ]
  },
  {
   "cell_type": "code",
   "execution_count": 45,
   "metadata": {},
   "outputs": [
    {
     "data": {
      "text/plain": [
       "7"
      ]
     },
     "execution_count": 45,
     "metadata": {},
     "output_type": "execute_result"
    }
   ],
   "source": [
    "np.sum(dizi[:,2])"
   ]
  },
  {
   "cell_type": "code",
   "execution_count": 46,
   "metadata": {},
   "outputs": [
    {
     "data": {
      "text/plain": [
       "array([3, 3, 1])"
      ]
     },
     "execution_count": 46,
     "metadata": {},
     "output_type": "execute_result"
    }
   ],
   "source": [
    "dizi[:,2]"
   ]
  }
 ],
 "metadata": {
  "kernelspec": {
   "display_name": "Python 3",
   "language": "python",
   "name": "python3"
  },
  "language_info": {
   "codemirror_mode": {
    "name": "ipython",
    "version": 3
   },
   "file_extension": ".py",
   "mimetype": "text/x-python",
   "name": "python",
   "nbconvert_exporter": "python",
   "pygments_lexer": "ipython3",
   "version": "3.8.5"
  }
 },
 "nbformat": 4,
 "nbformat_minor": 4
}
